{
 "cells": [
  {
   "cell_type": "markdown",
   "metadata": {},
   "source": [
    "# Question 1"
   ]
  },
  {
   "cell_type": "code",
   "execution_count": 1,
   "metadata": {},
   "outputs": [],
   "source": [
    "from scipy.integrate import odeint\n",
    "import numpy as np\n",
    "import matplotlib.pyplot as plt\n",
    "\n",
    "def dRdt(R, S, X, k1 = 2, k2 = 2):\n",
    "    return k1 * S - k2 * X * R\n",
    "\n",
    "def dXdt(X, S, R, k3 = 1, k4 = 1):\n",
    "    return k3 * S - k4 * X\n",
    "\n",
    "def equilibriumX(k3, k4, S):\n",
    "    return k3 * S / k4\n",
    "\n",
    "def equilibriumR(k1, k2, S, X):\n",
    "    return (k1 * S) / (k2 * X)\n",
    "\n",
    "def system(y, t, S, k1, k2, k3, k4):\n",
    "    R, X = y\n",
    "    \n",
    "    return np.array([dRdt(R, S, X, k1, k2), dXdt(X, S, R, k3, k4)])"
   ]
  },
  {
   "cell_type": "code",
   "execution_count": 9,
   "metadata": {},
   "outputs": [
    {
     "data": {
      "image/png": "[encoded data removed]",
      "text/plain": [
       "<Figure size 432x288 with 1 Axes>"
      ]
     },
     "metadata": {
      "needs_background": "light"
     },
     "output_type": "display_data"
    }
   ],
   "source": [
    "k1 = k2 = 2\n",
    "k3 = k4 = 1\n",
    "\n",
    "t_values = np.linspace(0, 5, 50)\n",
    "\n",
    "for S in np.linspace(1, 20, 5):\n",
    "    X = equilibriumX(k3, k4, S)\n",
    "    R = equilibriumR(k1, k2, S, X)\n",
    "    \n",
    "    rate = odeint(system, y0 = [R, X], t = t_values, args = (S, k1, k2, k3, k4)).transpose()[0]\n",
    "    plt.plot(t_values, rate, label=f\"S = {S}\")\n",
    "    \n",
    "plt.xlabel(\"t\")\n",
    "plt.ylabel(\"R\")\n",
    "plt.legend()\n",
    "plt.show()"
   ]
  },
  {
   "cell_type": "code",
   "execution_count": null,
   "metadata": {},
   "outputs": [],
   "source": []
  }
 ],
 "metadata": {
  "interpreter": {
   "hash": "10344cc2630caee6c426f20c539f54d9cac1d1c4347cedafcb6cd557f4800b22"
  },
  "kernelspec": {
   "display_name": "Python 3 (ipykernel)",
   "language": "python",
   "name": "python3"
  },
  "language_info": {
   "codemirror_mode": {
    "name": "ipython",
    "version": 3
   },
   "file_extension": ".py",
   "mimetype": "text/x-python",
   "name": "python",
   "nbconvert_exporter": "python",
   "pygments_lexer": "ipython3",
   "version": "3.9.7"
  }
 },
 "nbformat": 4,
 "nbformat_minor": 2
}

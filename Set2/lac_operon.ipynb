{
 "cells": [
  {
   "cell_type": "code",
   "execution_count": 2,
   "metadata": {},
   "outputs": [],
   "source": [
    "import numpy as np\n",
    "from numpy import linalg\n",
    "\n",
    "import matplotlib.pyplot as plt\n",
    "from scipy import optimize\n",
    "from scipy import integrate"
   ]
  },
  {
   "cell_type": "code",
   "execution_count": 4,
   "metadata": {},
   "outputs": [],
   "source": [
    "# Run cell to increase font sizes. Usefull when saving plots\n",
    "SMALL_SIZE = 20\n",
    "MEDIUM_SIZE = 24\n",
    "BIGGER_SIZE = 28\n",
    "\n",
    "plt.rc('font', size=SMALL_SIZE)          # controls default text sizes\n",
    "plt.rc('axes', titlesize=SMALL_SIZE)     # fontsize of the axes title\n",
    "plt.rc('axes', labelsize=MEDIUM_SIZE)    # fontsize of the x and y labels\n",
    "plt.rc('xtick', labelsize=SMALL_SIZE)    # fontsize of the tick labels\n",
    "plt.rc('ytick', labelsize=SMALL_SIZE)    # fontsize of the tick labels\n",
    "plt.rc('legend', fontsize=SMALL_SIZE)    # legend fontsize\n",
    "plt.rc('figure', titlesize=BIGGER_SIZE)  # fontsize of the figure title\n",
    "\n",
    "plt.rcParams[\"figure.figsize\"] = (12,9)"
   ]
  },
  {
   "cell_type": "code",
   "execution_count": 3,
   "metadata": {},
   "outputs": [
    {
     "data": {
      "application/vnd.jupyter.widget-view+json": {
       "model_id": "263ccdf5fa154e94b52e1ea6f0a75bde",
       "version_major": 2,
       "version_minor": 0
      },
      "text/plain": [
       "Canvas(toolbar=Toolbar(toolitems=[('Home', 'Reset original view', 'home', 'home'), ('Back', 'Back to previous …"
      ]
     },
     "metadata": {},
     "output_type": "display_data"
    }
   ],
   "source": [
    "def dMdt(M, A, L, Vmax=1, n=5, Km=2, k1=0.05, k2=1, k3=1, k4=1, k5=0.2):\n",
    "    return k1 + k2 * (1 - (1/(1 + A**n))) - k3 * M\n",
    "\n",
    "def dAdt(M, A, L, Vmax=1, n=5, Km=2, k1=0.05, k2=1, k3=1, k4=1, k5=0.2):\n",
    "    return k4 * M * L - k5 * A - Vmax* M * A / (Km + A)\n",
    "\n",
    "def M_nullcline(M, A, L, Vmax=1, n=5, Km=2, k1=0.05, k2=1, k3=1, k4=1, k5=0.2):\n",
    "    return (k1 + k2 * (1 - 1/(1 + A**n))) / k3\n",
    "\n",
    "def A_nullcline(M, A, L, Vmax=1, n=5, Km=2, k1=0.05, k2=1, k3=1, k4=1, k5=0.2):\n",
    "    return k5 * A / (k4 * L - (Vmax * A) / (Km + A))\n",
    "\n",
    "def root_func(x, L, Vmax=1, n=5, Km=2, k1=0.05, k2=1, k3=1, k4=1, k5=0.2):\n",
    "\n",
    "     A, M = x\n",
    "     return [dAdt(M, A, L, Vmax=Vmax, n=n, Km=Km, k1=k1, k2=k2, k3=k3, k4=k4, k5=k5),\n",
    "               dMdt(M, A, L, Vmax=Vmax, n=n, Km=Km, k1=k1, k2=k2, k3=k3, k4=k4, k5=k5)]\n",
    "\n",
    "def obtain_equilibrium_points(L, M_guesses, A_guesses, Vmax=1, n=5, Km=2, k1=0.05, k2=1, k3=1, k4=1, k5=0.2):\n",
    "\n",
    "     n_digits = 3\n",
    "     M_min, M_max = M_guesses[0], M_guesses[-1]\n",
    "     A_min, A_max = A_guesses[0], A_guesses[-1]\n",
    "\n",
    "     solutions = set()\n",
    "     for M in M_guesses:\n",
    "          for A in A_guesses:\n",
    "\n",
    "               sol = optimize.root(root_func, [A, M], args=(L, ), method='lm')\n",
    "               \n",
    "               sol_A = sol.x[0]\n",
    "               sol_M = sol.x[1]\n",
    "\n",
    "               if M_min < sol_M < M_max and A_min < sol_A < A_max:\n",
    "                    sol = (round(sol_A, n_digits), round(sol_M, n_digits))\n",
    "                    solutions.add(tuple(sol))\n",
    "\n",
    "     return np.array(list(solutions))\n",
    "\n",
    "def plot_lac_operon_streamplot(Ms, As, L, Vmax=1, n=5, Km=2, k1=0.05, k2=1, k3=1, k4=1, k5=0.2):\n",
    "    \n",
    "    # Compute the change of M and A for all values in the lists Ms and As\n",
    "    x_velocities, y_velocities = [], []\n",
    "    for M in Ms:\n",
    "\n",
    "        x_temp, y_temp = [], []\n",
    "        \n",
    "        for A in As:\n",
    "            x_temp.append(dAdt(M, A, L))\n",
    "            y_temp.append(dMdt(M, A, L))\n",
    "\n",
    "        x_velocities.append(x_temp)\n",
    "        y_velocities.append(y_temp)\n",
    "\n",
    "    # Compute nullclines for dm/dt=0 and da/dt=0\n",
    "    m_nulls = M_nullcline(Ms, As, L)\n",
    "    a_nulls = A_nullcline(Ms, As, L)\n",
    "\n",
    "    # Compute equilibrium points\n",
    "    equilibrium_points = obtain_equilibrium_points(L, Ms, As, Vmax=Vmax, n=n, Km=Km, k1=k1, k2=k2, k3=k3, k4=k4, k5=k5)\n",
    "\n",
    "\n",
    "    x_velocities = np.array(x_velocities)\n",
    "    y_velocities = np.array(y_velocities)\n",
    "\n",
    "    plt.ylim(Ms[0], Ms[-1])\n",
    "    plt.streamplot(As, Ms, x_velocities, y_velocities, density=2)\n",
    "\n",
    "    plt.plot(As, m_nulls, label=\"dm/dt = 0\")\n",
    "    plt.plot(As, a_nulls, label=\"da/dt = 0\")\n",
    "    \n",
    "    plt.scatter(equilibrium_points[:,0], equilibrium_points[:, 1], marker=\"o\", alpha=1, s=50, linewidths=3, label=\"equilibrium points\")\n",
    "\n",
    "    plt.xlabel(\"A\")\n",
    "    plt.ylabel(\"M\")\n",
    "\n",
    "    plt.legend()\n",
    "    plt.show()\n",
    "\n",
    "%matplotlib widget\n",
    "\n",
    "As = np.arange(0, 12, 0.1)\n",
    "Ms = np.arange(0, 10, 0.1)\n",
    "plot_lac_operon_streamplot(Ms, As, L=1)\n",
    "# plot_lac_operon_streamplot(Ms, As, L=2)\n",
    "# plot_lac_operon_streamplot(Ms, As, L=3)\n",
    "\n"
   ]
  },
  {
   "cell_type": "code",
   "execution_count": 8,
   "metadata": {},
   "outputs": [
    {
     "name": "stdout",
     "output_type": "stream",
     "text": [
      "L=1\n",
      "[2.372 1.037]: [-0.30490613 -1.00359855]\n",
      "[0.691 0.186]: [-0.1093788  -1.14199191]\n",
      "[0.227 0.051]: [-0.21752266 -1.00304381]\n",
      "L=2\n",
      "[6.487 1.05 ]: [-0.22913335 -1.00002151]\n",
      "[0.394 0.047]: [-0.16445637 -1.05194498]\n",
      "L=3\n",
      "[0.349 0.028]: [-0.16028939 -1.04985958]\n",
      "[11.29  1.05]: [-0.21188834 -1.00000132]\n"
     ]
    }
   ],
   "source": [
    "def jacobian(x, L, Vmax=1, n=5, Km=2, k1=0.05, k2=1, k3=1, k4=1, k5=0.2):\n",
    "\n",
    "     A, M = x\n",
    "     J = [[-k5  - Vmax * M * Km / (Km + A) ** 2, \n",
    "            k4 * L - Vmax * A / (Km + A)],\n",
    "          [k2 * A ** (n - 1) / (1 + A ** n) ** 2, \n",
    "           -k3]]\n",
    "\n",
    "     return np.array(J)\n",
    "\n",
    "def identify_equilibrium_points(equilibrium_points, L, Vmax=1, n=5, Km=2, k1=0.05, k2=1, k3=1, k4=1, k5=0.2):\n",
    "\n",
    "     for equilibrium_point in equilibrium_points:\n",
    "\n",
    "          jacob = jacobian(equilibrium_point, L, Vmax=Vmax, n=n, Km=Km, k1=k1, k2=k2, k3=k3, k4=k4, k5=k5)\n",
    "          \n",
    "          # jacob[[0, 1]] = jacob[[1, 0]]                              # Swap rows\n",
    "          # jacob[:, 0], jacob[:, 1] = jacob[:, 1], jacob[:, 0].copy() # Swap columns\n",
    "          # jacob = np.transpose(jacob)                                # Transpose\n",
    "\n",
    "          eigenvalues = linalg.eigvals(jacob)\n",
    "\n",
    "          print(f\"{equilibrium_point}: {eigenvalues}\")\n",
    "\n",
    "# TODO it finds wrong type of equilibrium points\n",
    "          \n",
    "print(\"L=1\")\n",
    "points = obtain_equilibrium_points(1, Ms, As)\n",
    "identify_equilibrium_points(points, 1)\n",
    "\n",
    "print(\"L=2\")\n",
    "points = obtain_equilibrium_points(2, Ms, As)\n",
    "identify_equilibrium_points(points, 2)\n",
    "\n",
    "print(\"L=3\")\n",
    "points = obtain_equilibrium_points(3, Ms, As)\n",
    "identify_equilibrium_points(points, 3)\n"
   ]
  },
  {
   "cell_type": "code",
   "execution_count": 15,
   "metadata": {},
   "outputs": [
    {
     "data": {
      "image/png": "[encoded data removed]",
      "text/plain": [
       "<Figure size 432x288 with 1 Axes>"
      ]
     },
     "metadata": {
      "needs_background": "light"
     },
     "output_type": "display_data"
    }
   ],
   "source": [
    "def lac_operon(y, t, L):\n",
    "\n",
    "    A, M = y\n",
    "    dydt = [dAdt(M, A, L), dMdt(M, A, L)]\n",
    "    return dydt\n",
    "\n",
    "def lac_operon_excercise(y):\n",
    "    \n",
    "    y0 = y\n",
    "    t0 = np.linspace(0, 30, 301)\n",
    "    sol0 = integrate.odeint(lac_operon, y0, t0, args=(1,))\n",
    "\n",
    "    y1 = sol0[-1]\n",
    "    t1 = np.linspace(30, 60, 301)\n",
    "    sol1 = integrate.odeint(lac_operon, y1, t1, args=(2,))\n",
    "\n",
    "    y2 = sol1[-1]\n",
    "    t2 = np.linspace(60, 90, 301)\n",
    "    sol2 = integrate.odeint(lac_operon, y2, t2, args=(3,))\n",
    "\n",
    "    # Combine the solutions \n",
    "    t = np.concatenate((t0, t1, t2))\n",
    "    sol = np.concatenate((sol0, sol1, sol2))\n",
    "\n",
    "    ymin, ymax = np.min(sol), np.max(sol)\n",
    "\n",
    "    plt.axvline(30, ls=\"--\", color=\"k\")\n",
    "    plt.axvline(60, ls=\"--\", color=\"k\")\n",
    "    plt.plot(t, sol[:, 0], label=\"A(t)\")\n",
    "    plt.plot(t, sol[:, 1], label=\"M(t)\")\n",
    "    plt.legend()\n",
    "    plt.xlabel(\"t\")\n",
    "    plt.show()\n",
    "\n",
    "%matplotlib inline\n",
    "lac_operon_excercise([0.05, 0])"
   ]
  },
  {
   "cell_type": "code",
   "execution_count": null,
   "metadata": {},
   "outputs": [],
   "source": []
  }
 ],
 "metadata": {
  "interpreter": {
   "hash": "a297ac84006f0f11ed5a87af9e7371e781f0b777a7d5c6194dad8a3a5f39a664"
  },
  "kernelspec": {
   "display_name": "Python 3.9.4 64-bit",
   "language": "python",
   "name": "python3"
  },
  "language_info": {
   "codemirror_mode": {
    "name": "ipython",
    "version": 3
   },
   "file_extension": ".py",
   "mimetype": "text/x-python",
   "name": "python",
   "nbconvert_exporter": "python",
   "pygments_lexer": "ipython3",
   "version": "3.9.4"
  },
  "orig_nbformat": 4
 },
 "nbformat": 4,
 "nbformat_minor": 2
}

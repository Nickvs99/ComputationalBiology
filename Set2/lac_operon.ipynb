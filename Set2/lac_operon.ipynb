{
 "cells": [
  {
   "cell_type": "code",
   "execution_count": 1,
   "metadata": {},
   "outputs": [],
   "source": [
    "import numpy as np\n",
    "import matplotlib.pyplot as plt"
   ]
  },
  {
   "cell_type": "code",
   "execution_count": 2,
   "metadata": {},
   "outputs": [],
   "source": [
    "# Run cell to increase font sizes. Usefull when saving plots\n",
    "SMALL_SIZE = 20\n",
    "MEDIUM_SIZE = 24\n",
    "BIGGER_SIZE = 28\n",
    "\n",
    "plt.rc('font', size=SMALL_SIZE)          # controls default text sizes\n",
    "plt.rc('axes', titlesize=SMALL_SIZE)     # fontsize of the axes title\n",
    "plt.rc('axes', labelsize=MEDIUM_SIZE)    # fontsize of the x and y labels\n",
    "plt.rc('xtick', labelsize=SMALL_SIZE)    # fontsize of the tick labels\n",
    "plt.rc('ytick', labelsize=SMALL_SIZE)    # fontsize of the tick labels\n",
    "plt.rc('legend', fontsize=SMALL_SIZE)    # legend fontsize\n",
    "plt.rc('figure', titlesize=BIGGER_SIZE)  # fontsize of the figure title\n",
    "\n",
    "plt.rcParams[\"figure.figsize\"] = (12,9)"
   ]
  },
  {
   "cell_type": "code",
   "execution_count": 3,
   "metadata": {},
   "outputs": [
    {
     "name": "stderr",
     "output_type": "stream",
     "text": [
      "<ipython-input-3-f0486a886956>:18: RuntimeWarning: divide by zero encountered in true_divide\n",
      "  return (1 / (1 - (k3 * M - k1) / k2) - 1 ) ** (1/n)\n",
      "<ipython-input-3-f0486a886956>:18: RuntimeWarning: invalid value encountered in power\n",
      "  return (1 / (1 - (k3 * M - k1) / k2) - 1 ) ** (1/n)\n"
     ]
    }
   ],
   "source": [
    "# def rhs(w, t, parameters):\n",
    "#    M, A = w\n",
    "#    L, Vmax, n, Km, k1, k2, k3, k4, k5 = parameters\n",
    "\n",
    "#    return [\n",
    "#        k1 + k2 * (1 / (1 + A**n)) - k3 * M,\n",
    "#        k4 * M * L - k5 * A - Vmax  * M * A * / (Km + A)\n",
    "#    ]\n",
    "\n",
    "def dMdt(M, A, L, Vmax=1, n=5, Km=2, k1=0.05, k2=1, k3=1, k4=1, k5=0.2):\n",
    "    return k1 + k2 * (1 - (1/(1 + A**n))) - k3 * M\n",
    "\n",
    "def dAdt(M, A, L, Vmax=1, n=5, Km=2, k1=0.05, k2=1, k3=1, k4=1, k5=0.2):\n",
    "    return k4 * M * L - k5 * A - Vmax* M * A / (Km + A)\n",
    "\n",
    "def M_nullcline(M, A, L, Vmax=1, n=5, Km=2, k1=0.05, k2=1, k3=1, k4=1, k5=0.2):\n",
    "\n",
    "    return (1 / (1 - (k3 * M - k1) / k2) - 1 ) ** (1/n)\n",
    "\n",
    "def A_nullcline(M, A, L, Vmax=1, n=5, Km=2, k1=0.05, k2=1, k3=1, k4=1, k5=0.2):\n",
    "\n",
    "    a = -k5\n",
    "    b = k4 * M * L - k5 * Km - Vmax * M\n",
    "    c = k4 * M * L * Km\n",
    "\n",
    "    d = b ** 2 - 4 * a * c\n",
    "    return (-b - d ** 0.5) / (2 * a), (-b + d ** 0.5) / (2 * a)\n",
    "\n",
    "\n",
    "L = 3\n",
    "As = np.arange(0, 3, 0.01)\n",
    "Ms = np.arange(0, 2, 0.01)\n",
    "\n",
    "x_velocities, y_velocities = [], []\n",
    "for A in As:\n",
    "\n",
    "    x_temp, y_temp = [], []\n",
    "    \n",
    "    for M in Ms:\n",
    "\n",
    "        x_temp.append(dMdt(M, A, L))\n",
    "        y_temp.append(dAdt(M, A, L))\n",
    "\n",
    "    x_velocities.append(x_temp)\n",
    "    y_velocities.append(y_temp)\n",
    "\n",
    "m_nulls = M_nullcline(Ms, As, L)\n",
    "a_nulls_min, a_nulls_plus = A_nullcline(Ms, As, L)"
   ]
  },
  {
   "cell_type": "code",
   "execution_count": 4,
   "metadata": {},
   "outputs": [],
   "source": [
    "# Create figure 8 from assignment\n",
    "\n",
    "# def dMdt(M, A, L):\n",
    "#     return M + A - 5\n",
    "\n",
    "# def dAdt(M, A, L):\n",
    "#     return 2 * M - 8 * A\n",
    "\n",
    "# def M_nullcline(M, A, L):\n",
    "#     return 5 - M\n",
    "\n",
    "# def A_nullcline(M, A, L):\n",
    "#     return 0.25 * M"
   ]
  },
  {
   "cell_type": "code",
   "execution_count": 5,
   "metadata": {},
   "outputs": [
    {
     "data": {
      "application/vnd.jupyter.widget-view+json": {
       "model_id": "2ab2fd50588649749b072c61dad5bb95",
       "version_major": 2,
       "version_minor": 0
      },
      "text/plain": [
       "Canvas(toolbar=Toolbar(toolitems=[('Home', 'Reset original view', 'home', 'home'), ('Back', 'Back to previous …"
      ]
     },
     "metadata": {},
     "output_type": "display_data"
    }
   ],
   "source": [
    "%matplotlib widget\n",
    "\n",
    "x_velocities = np.array(x_velocities)\n",
    "y_velocities = np.array(y_velocities)\n",
    "\n",
    "plt.ylim(As[0], As[-1])\n",
    "plt.streamplot(Ms, As, x_velocities, y_velocities)\n",
    "\n",
    "plt.plot(Ms, m_nulls, label=\"dm/dt = 0\")\n",
    "plt.plot(Ms, a_nulls_min, label=\"da/dt = 0\")\n",
    "plt.plot(Ms, a_nulls_plus, label=\"da/dt = 0\")\n",
    "\n",
    "plt.xlabel(\"M\")\n",
    "plt.ylabel(\"A\")\n",
    "\n",
    "plt.legend()\n",
    "plt.show()"
   ]
  },
  {
   "cell_type": "code",
   "execution_count": 6,
   "metadata": {},
   "outputs": [],
   "source": [
    "def dMdt(M, A, L, Vmax=1, n=5, Km=2, k1=0.05, k2=1, k3=1, k4=1, k5=0.2):\n",
    "    return k1 + k2 * (1 - (1/(1 + A**n))) - k3 * M\n",
    "\n",
    "def dAdt(M, A, L, Vmax=1, n=5, Km=2, k1=0.05, k2=1, k3=1, k4=1, k5=0.2):\n",
    "    return k4 * M * L - k5 * A - Vmax* M * A / (Km + A)\n",
    "\n",
    "def M_nullcline(M, A, L, Vmax=1, n=5, Km=2, k1=0.05, k2=1, k3=1, k4=1, k5=0.2):\n",
    "\n",
    "    return (k1 + k2 * (1 - 1/(1 + A**n))) / k3\n",
    "\n",
    "def A_nullcline(M, A, L, Vmax=1, n=5, Km=2, k1=0.05, k2=1, k3=1, k4=1, k5=0.2):\n",
    "\n",
    "    return k5 * A / (k4 * L - (Vmax * A) / (Km + A))\n",
    "\n",
    "\n",
    "L = 1\n",
    "As = np.arange(0, 3, 0.01)\n",
    "Ms = np.arange(0, 2, 0.01)\n",
    "\n",
    "x_velocities, y_velocities = [], []\n",
    "for M in Ms:\n",
    "\n",
    "    x_temp, y_temp = [], []\n",
    "    \n",
    "    for A in As:\n",
    "        x_temp.append(dAdt(M, A, L))\n",
    "        y_temp.append(dMdt(M, A, L))\n",
    "\n",
    "    x_velocities.append(x_temp)\n",
    "    y_velocities.append(y_temp)\n",
    "\n",
    "m_nulls = M_nullcline(Ms, As, L)\n",
    "a_nulls = A_nullcline(Ms, As, L)"
   ]
  },
  {
   "cell_type": "code",
   "execution_count": 7,
   "metadata": {},
   "outputs": [
    {
     "data": {
      "application/vnd.jupyter.widget-view+json": {
       "model_id": "38bfc6c0adbf48b1a1bbe5c3bd099946",
       "version_major": 2,
       "version_minor": 0
      },
      "text/plain": [
       "Canvas(toolbar=Toolbar(toolitems=[('Home', 'Reset original view', 'home', 'home'), ('Back', 'Back to previous …"
      ]
     },
     "metadata": {},
     "output_type": "display_data"
    }
   ],
   "source": [
    "%matplotlib widget\n",
    "\n",
    "x_velocities = np.array(x_velocities)\n",
    "y_velocities = np.array(y_velocities)\n",
    "\n",
    "plt.ylim(Ms[0], Ms[-1])\n",
    "plt.streamplot(As, Ms, x_velocities, y_velocities, density=1)\n",
    "\n",
    "plt.plot(As, m_nulls, label=\"dm/dt = 0\")\n",
    "plt.plot(As, a_nulls, label=\"da/dt = 0\")\n",
    "# plt.plot(Ms, a_nulls_plus, label=\"da/dt = 0\")\n",
    "\n",
    "plt.xlabel(\"A\")\n",
    "plt.ylabel(\"M\")\n",
    "\n",
    "plt.legend()\n",
    "plt.show()"
   ]
  },
  {
   "cell_type": "code",
   "execution_count": null,
   "metadata": {},
   "outputs": [],
   "source": []
  }
 ],
 "metadata": {
  "interpreter": {
   "hash": "a297ac84006f0f11ed5a87af9e7371e781f0b777a7d5c6194dad8a3a5f39a664"
  },
  "kernelspec": {
   "display_name": "Python 3.9.4 64-bit",
   "language": "python",
   "name": "python3"
  },
  "language_info": {
   "codemirror_mode": {
    "name": "ipython",
    "version": 3
   },
   "file_extension": ".py",
   "mimetype": "text/x-python",
   "name": "python",
   "nbconvert_exporter": "python",
   "pygments_lexer": "ipython3",
   "version": "3.9.4"
  },
  "orig_nbformat": 4
 },
 "nbformat": 4,
 "nbformat_minor": 2
}

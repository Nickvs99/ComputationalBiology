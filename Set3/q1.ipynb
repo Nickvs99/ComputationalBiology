{
 "cells": [
  {
   "cell_type": "code",
   "execution_count": 1,
   "metadata": {},
   "outputs": [],
   "source": [
    "import matplotlib.pyplot as plt\n",
    "\n",
    "import numpy as np\n",
    "from scipy.integrate import odeint"
   ]
  },
  {
   "cell_type": "code",
   "execution_count": 2,
   "metadata": {},
   "outputs": [],
   "source": [
    "# Run cell to increase font sizes. Useful when saving plots\n",
    "SMALL_SIZE = 20\n",
    "MEDIUM_SIZE = 24\n",
    "BIGGER_SIZE = 28\n",
    "\n",
    "plt.rc('font', size=SMALL_SIZE)          # controls default text sizes\n",
    "plt.rc('axes', titlesize=SMALL_SIZE)     # fontsize of the axes title\n",
    "plt.rc('axes', labelsize=MEDIUM_SIZE)    # fontsize of the x and y labels\n",
    "plt.rc('xtick', labelsize=SMALL_SIZE)    # fontsize of the tick labels\n",
    "plt.rc('ytick', labelsize=SMALL_SIZE)    # fontsize of the tick labels\n",
    "plt.rc('legend', fontsize=SMALL_SIZE)    # legend fontsize\n",
    "plt.rc('figure', titlesize=BIGGER_SIZE)  # fontsize of the figure title\n",
    "\n",
    "plt.rcParams[\"figure.figsize\"] = (12,9)"
   ]
  },
  {
   "cell_type": "markdown",
   "metadata": {},
   "source": [
    "Question 1: Complex calcium oscillations"
   ]
  },
  {
   "cell_type": "code",
   "execution_count": 3,
   "metadata": {},
   "outputs": [],
   "source": [
    "# Declare parameters\n",
    "\n",
    "# Total concentrations (micro Moles)\n",
    "Ca_tot =  90 \n",
    "Pr_tot = 120\n",
    "\n",
    "# Geometric Parameters\n",
    "\n",
    "rho_ER = 0.01\n",
    "rho_m = 0.01\n",
    "beta_ER = 0.0025\n",
    "beta_m = 0.0025\n",
    "\n",
    "# Kinetics parameters\n",
    "\n",
    "k_pump = 20         #s^-1\n",
    "k_ch = 3900         #s^-1\n",
    "k_leak = 0.05       #s^-1\n",
    "k_in = 300          #(micro Moles s^-1)\n",
    "k_out = 125         #s^-1\n",
    "k_m = 0.00625       #s^-1\n",
    "k_plus = 0.1        #(micro Moles)\n",
    "k_minus = 0.01      #s^-1\n",
    "K1 = 5              #(micro Moles)\n",
    "K2 = 0.8            #(micro Moles)\n",
    "K3 = 5              #(micro Moles)\n",
    "\n",
    "# Initial concentrations (micro Moles)\n",
    "\n",
    "Ca_cyt_0 = 0.3 \n",
    "Ca_ER_0 = 0.2 \n",
    "Ca_m_0 = 1 "
   ]
  },
  {
   "cell_type": "code",
   "execution_count": 4,
   "metadata": {},
   "outputs": [],
   "source": [
    "def Ca_system(y, t):\n",
    "    Ca_cyt, Ca_ER, Ca_m = y\n",
    "    J_pump = k_pump*Ca_cyt\n",
    "    J_ch = k_ch*((Ca_cyt**2)/(K1**2 + Ca_cyt**2))*(Ca_ER - Ca_cyt)\n",
    "    J_leak = k_leak*(Ca_ER - Ca_cyt)\n",
    "    J_in = k_in*(Ca_cyt**8)/(K2**8 + Ca_cyt**8)\n",
    "    J_out = Ca_m*(((k_out*Ca_cyt**2) / (K3**2 + Ca_cyt**2))+k_m)\n",
    "    CaPr = Ca_tot - Ca_cyt -(rho_ER/beta_ER)*Ca_ER - (rho_m/beta_m)*Ca_m\n",
    "    Pr = Pr_tot - CaPr\n",
    "    \n",
    "    return [J_ch + J_leak - J_pump + J_out - J_in + k_minus*CaPr - k_plus*Ca_cyt*Pr, \n",
    "           (beta_ER/rho_ER)*(J_pump - J_ch - J_leak), (beta_m/rho_m)*(J_in - J_out)]"
   ]
  },
  {
   "cell_type": "code",
   "execution_count": 5,
   "metadata": {},
   "outputs": [],
   "source": [
    "def evolve(y0, ts):\n",
    "\n",
    "    print(k_ch)\n",
    "    return odeint(Ca_system, y0, ts)\n",
    "\n",
    "def plot_Ca_system(Ca_results, ts):\n",
    "\n",
    "    plt.plot(ts, Ca_results[:, 0], label=\"[Ca_cyt]\")\n",
    "    plt.plot(ts, Ca_results[:, 1], label=\"[Ca_ER]\")\n",
    "    plt.plot(ts, Ca_results[:, 2], label=\"[Ca_m]\")\n",
    "\n",
    "    plt.xlabel(\"t [s]\")\n",
    "    plt.ylabel(\"Concentration\")\n",
    "\n",
    "    plt.legend()\n",
    "    plt.show()\n",
    "\n",
    "def plot_2D_phase_plots(Ca_results):\n",
    "\n",
    "    plt.subplot(1,3,1)\n",
    "    plt.plot(Ca_results[:, 0], Ca_results[:, 1])\n",
    "    plt.xlabel(\"Cyt\")\n",
    "    plt.ylabel(\"ER\")\n",
    "\n",
    "    plt.subplot(1,3,2)\n",
    "    plt.plot(Ca_results[:, 1], Ca_results[:, 2])\n",
    "    plt.xlabel(\"ER\")\n",
    "    plt.ylabel(\"m\")\n",
    "\n",
    "    plt.subplot(1,3,3)\n",
    "    plt.plot(Ca_results[:, 2], Ca_results[:, 0])\n",
    "    plt.xlabel(\"m\")\n",
    "    plt.ylabel(\"Cyt\")\n",
    "    \n",
    "    plt.show()\n",
    "\n",
    "def plot_3D_phase_plot(Ca_results):\n",
    "\n",
    "    fig = plt.figure()\n",
    "    ax = fig.gca(projection='3d')\n",
    "    ax.plot(Ca_results[:, 0], Ca_results[:, 1], Ca_results[:, 2])\n",
    "    ax.set_xlabel(\"[Ca_cyt]\")\n",
    "    ax.set_ylabel(\"[Ca_ER]\")\n",
    "    ax.set_zlabel(\"[Ca_m]\")\n",
    "\n",
    "    plt.show()\n",
    "\n",
    "    "
   ]
  },
  {
   "cell_type": "code",
   "execution_count": 7,
   "metadata": {},
   "outputs": [
    {
     "name": "stdout",
     "output_type": "stream",
     "text": [
      "3900\n"
     ]
    },
    {
     "data": {
      "application/vnd.jupyter.widget-view+json": {
       "model_id": "88013048e56e4fc19116abc31d30d26c",
       "version_major": 2,
       "version_minor": 0
      },
      "text/plain": [
       "Canvas(toolbar=Toolbar(toolitems=[('Home', 'Reset original view', 'home', 'home'), ('Back', 'Back to previous …"
      ]
     },
     "metadata": {},
     "output_type": "display_data"
    },
    {
     "data": {
      "application/vnd.jupyter.widget-view+json": {
       "model_id": "81906d94074c4d1da7d61398cb46f2b3",
       "version_major": 2,
       "version_minor": 0
      },
      "text/plain": [
       "Canvas(toolbar=Toolbar(toolitems=[('Home', 'Reset original view', 'home', 'home'), ('Back', 'Back to previous …"
      ]
     },
     "metadata": {},
     "output_type": "display_data"
    },
    {
     "name": "stderr",
     "output_type": "stream",
     "text": [
      "<ipython-input-5-d957b79fc83e>:40: MatplotlibDeprecationWarning: Calling gca() with keyword arguments was deprecated in Matplotlib 3.4. Starting two minor releases later, gca() will take no keyword arguments. The gca() function should only be used to get the current axes, or if no axes exist, create new axes with default keyword arguments. To create a new axes with non-default arguments, use plt.axes() or plt.subplot().\n",
      "  ax = fig.gca(projection='3d')\n"
     ]
    }
   ],
   "source": [
    "%matplotlib widget\n",
    "\n",
    "def set_k_ch(k):\n",
    "\n",
    "    global k_ch\n",
    "    k_ch = k\n",
    "\n",
    "def main_question_1(k):\n",
    "\n",
    "    set_k_ch(k)\n",
    "    \n",
    "    y0 = Ca_cyt_0, Ca_ER_0, Ca_m_0\n",
    "    ts = np.arange(0, 100, 0.001)\n",
    "\n",
    "    Ca_results = evolve(y0, ts)\n",
    "\n",
    "    plot_Ca_system(Ca_results, ts)\n",
    "    # plot_2D_phase_plots(Ca_results)\n",
    "    plot_3D_phase_plot(Ca_results)\n",
    "\n",
    "main_question_1(3900)"
   ]
  },
  {
   "cell_type": "code",
   "execution_count": null,
   "metadata": {},
   "outputs": [],
   "source": []
  },
  {
   "cell_type": "code",
   "execution_count": null,
   "metadata": {},
   "outputs": [],
   "source": []
  }
 ],
 "metadata": {
  "interpreter": {
   "hash": "a297ac84006f0f11ed5a87af9e7371e781f0b777a7d5c6194dad8a3a5f39a664"
  },
  "kernelspec": {
   "display_name": "Python 3.9.4 64-bit",
   "language": "python",
   "name": "python3"
  },
  "language_info": {
   "codemirror_mode": {
    "name": "ipython",
    "version": 3
   },
   "file_extension": ".py",
   "mimetype": "text/x-python",
   "name": "python",
   "nbconvert_exporter": "python",
   "pygments_lexer": "ipython3",
   "version": "3.9.4"
  },
  "orig_nbformat": 4
 },
 "nbformat": 4,
 "nbformat_minor": 2
}

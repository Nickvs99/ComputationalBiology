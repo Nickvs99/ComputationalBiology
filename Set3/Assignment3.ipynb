{
 "cells": [
  {
   "cell_type": "markdown",
   "metadata": {},
   "source": [
    "Question 1: Complex calcium oscillations"
   ]
  },
  {
   "cell_type": "code",
   "execution_count": 1,
   "metadata": {
    "collapsed": true
   },
   "outputs": [],
   "source": [
    "# Declare parameters\n",
    "#---------------------------------------\n",
    "#Total concentrations (micro Moles)\n",
    "Ca_tot =  90 \n",
    "Pr_tot = 120\n",
    "\n",
    "# Geometric Parameters\n",
    "\n",
    "rho_ER = 0.01\n",
    "rho_m = 0.01\n",
    "beta_ER = 0.0025\n",
    "beta_m = 0.0025\n",
    "\n",
    "#Kinetics parameters\n",
    "\n",
    "k_pump = 20 #s^-1\n",
    "k_ch = 3900 #s^-1\n",
    "k_leak = 0.05 #s^-1\n",
    "k_in = 300 #(micro Moles s^-1)\n",
    "k_out = 125 #s^-1\n",
    "k_m = 0.00625 #s^-1\n",
    "k_plus = 0.1 #(micro Moles)\n",
    "k_minus = 0.01 #s^-1\n",
    "K1 = 5 #(micro Moles)\n",
    "K2 = 0.8 #(micro Moles)\n",
    "K3 = 5 #(micro Moles)\n",
    "\n",
    "#Initial concentrations (micro Moles)\n",
    "\n",
    "Ca_cyt_0 = 0.3 \n",
    "Ca_ER_0 = 0.2 \n",
    "Ca_m_0 = 1 "
   ]
  },
  {
   "cell_type": "code",
   "execution_count": 2,
   "metadata": {
    "collapsed": true
   },
   "outputs": [],
   "source": [
    "def Ca_system(y, t):\n",
    "    Ca_cyt, Ca_ER, Ca_m = y\n",
    "    J_pump = k_pump*Ca_cyt\n",
    "    J_ch = k_ch*((Ca_cyt**2)/(K1**2 + Ca_cyt**2))*(Ca_ER - Ca_cyt)\n",
    "    J_leak = k_leak*(Ca_ER - Ca_cyt)\n",
    "    J_in = k_in*(Ca_cyt**8)/(K2**8 + Ca_cyt**8)\n",
    "    J_out = Ca_m*(((k_out*Ca_cyt**2) / (K3**2 + Ca_cyt**2))+k_m)\n",
    "    CaPr = Ca_tot - Ca_cyt -(rho_ER/beta_ER)*Ca_ER - (rho_m/beta_m)*Ca_m\n",
    "    Pr = Pr_tot - CaPr\n",
    "    \n",
    "    return [J_ch + J_leak - J_pump + J_out - J_in + k_minus*CaPr - k_plus*Ca_cyt*Pr, \n",
    "           (beta_ER/rho_ER)*(J_pump - J_ch - J_leak), (beta_m/rho_m)*(J_in - J_out)]"
   ]
  },
  {
   "cell_type": "markdown",
   "metadata": {},
   "source": [
    "Question 2: Schnakenberg model"
   ]
  },
  {
   "cell_type": "code",
   "execution_count": 4,
   "metadata": {
    "collapsed": true
   },
   "outputs": [],
   "source": [
    "#Laplace 1D\n",
    "\n",
    "def laplace_1D(X, dx):\n",
    "    Xleft = X[:-2]\n",
    "    Xright = X[2:]\n",
    "    return (Xleft + Xright - 2*X[1:-1])/dx**2"
   ]
  },
  {
   "cell_type": "code",
   "execution_count": 5,
   "metadata": {
    "collapsed": true
   },
   "outputs": [],
   "source": [
    "#Laplace 2D\n",
    "\n",
    "def laplace_2D(X, dx):\n",
    "    Xtop = X[:-2, 1:-1]\n",
    "    Xbottom = X[2:, 1:-1]\n",
    "    Xleft = X[1:-1, :-2]\n",
    "    Xright = X[1:-1, 2:]\n",
    "    return (Xtop + Xbottom + Xleft + Xright - 4*X[1:-1, 1:-1])/(dx**2)"
   ]
  }
 ],
 "metadata": {
  "kernelspec": {
   "display_name": "Python 3",
   "language": "python",
   "name": "python3"
  },
  "language_info": {
   "codemirror_mode": {
    "name": "ipython",
    "version": 3
   },
   "file_extension": ".py",
   "mimetype": "text/x-python",
   "name": "python",
   "nbconvert_exporter": "python",
   "pygments_lexer": "ipython3",
   "version": "3.6.2"
  }
 },
 "nbformat": 4,
 "nbformat_minor": 2
}

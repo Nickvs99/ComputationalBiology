{
 "cells": [
  {
   "cell_type": "code",
   "execution_count": 1,
   "metadata": {},
   "outputs": [],
   "source": [
    "import numpy as np\n",
    "import matplotlib.pyplot as plt\n",
    "# from numpy.random import choice"
   ]
  },
  {
   "cell_type": "code",
   "execution_count": 2,
   "metadata": {},
   "outputs": [],
   "source": [
    "# # Run cell to increase font sizes. Useful when saving plots\n",
    "# SMALL_SIZE = 20\n",
    "# MEDIUM_SIZE = 24\n",
    "# BIGGER_SIZE = 28\n",
    "\n",
    "# plt.rc('font', size=SMALL_SIZE)          # controls default text sizes\n",
    "# plt.rc('axes', titlesize=SMALL_SIZE)     # fontsize of the axes title\n",
    "# plt.rc('axes', labelsize=MEDIUM_SIZE)    # fontsize of the x and y labels\n",
    "# plt.rc('xtick', labelsize=SMALL_SIZE)    # fontsize of the tick labels\n",
    "# plt.rc('ytick', labelsize=SMALL_SIZE)    # fontsize of the tick labels\n",
    "# plt.rc('legend', fontsize=SMALL_SIZE)    # legend fontsize\n",
    "# plt.rc('figure', titlesize=BIGGER_SIZE)  # fontsize of the figure title\n",
    "\n",
    "# plt.rcParams[\"figure.figsize\"] = (18,16)"
   ]
  },
  {
   "cell_type": "code",
   "execution_count": 3,
   "metadata": {},
   "outputs": [
    {
     "name": "stdout",
     "output_type": "stream",
     "text": [
      "[[    0.     0.     0. ...     0.     0.     0.]\n",
      " [    0. 22409. 17911. ... 18199. 37122.     0.]\n",
      " [    0. 20047.   783. ... 14941. 16851.     0.]\n",
      " ...\n",
      " [    0. 25432. 39230. ... 38285. 23441.     0.]\n",
      " [    0.  7970. 13325. ...  4094. 26442.     0.]\n",
      " [    0.     0.     0. ...     0.     0.     0.]]\n",
      "[[ 1839.  3224.  8777.  9739. 12737. 31797. 16715. 29806. 24655.  8631.]\n",
      " [21238. 39903. 15290. 38915. 34751. 18204.  9859.  8038. 29690. 13644.]\n",
      " [23680. 32243. 16953. 32604.  2476. 13409.  2647. 10984. 38320. 26932.]\n",
      " [26219.  9683. 30174. 36887. 24589. 16828. 10210. 25240.  6707. 10655.]\n",
      " [28536. 23271. 13938. 33226. 25210.  7341. 27134. 24693. 25610.  4457.]\n",
      " [26658.  7881.  5078. 23549. 25225.  7401.  6715. 13263.   205. 23625.]\n",
      " [  437. 10324. 10870. 34287. 24929.  1090. 30465. 39207. 23351.  3852.]\n",
      " [ 2696. 16155. 13438.  6848. 33850. 16330. 29442. 25396.  2573.  3298.]\n",
      " [29785.  2265. 23332. 38877. 14386.  5019. 17060. 16026. 20409. 24406.]\n",
      " [31053. 36519. 27860.  4544. 11747. 20076. 26572. 15624. 12337. 34260.]]\n"
     ]
    }
   ],
   "source": [
    "# Declare parameters\n",
    "#---------------------------------------\n",
    "n_steps = 10001\n",
    "nx = 200\n",
    "T = 1\n",
    "k = 0.5\n",
    "\n",
    "n_cells = 1000\n",
    "\n",
    "# Create initial grid\n",
    "grid_0 = np.zeros((nx + 2, nx + 2))\n",
    "\n",
    "# Give each cell a unique integer id\n",
    "grid_0[1:-1, 1:-1] = np.random.choice(range(1, nx*nx+1), (nx,nx), replace=False)\n",
    "\n",
    "for j in range(1, nx // 40):\n",
    "    i = 0\n",
    "    length = np.random.uniform(0.5 * nx // 40, 1.5 * nx // 40)\n",
    "\n",
    "print(grid_0)\n",
    "print(grid_0[10:20, 10:20])"
   ]
  },
  {
   "cell_type": "code",
   "execution_count": 4,
   "metadata": {},
   "outputs": [],
   "source": [
    "def kronecker_delta(i, j):\n",
    "    return i == j\n",
    "\n",
    "# def neighborhood_ids(grid, i, j):\n",
    "#     return grid[i-1, j], grid[i+1, j], grid[i, j-1], grid[i, j+1]"
   ]
  },
  {
   "cell_type": "code",
   "execution_count": 138,
   "metadata": {},
   "outputs": [],
   "source": [
    "class Cellular_Potts:\n",
    "    def __init__(self, labda = 1, n_steps = 10001, nx = 400, T = 5, k = 1):\n",
    "        self.n_steps, self.nx, self.T, self.k, self.labda = n_steps, nx, T, k, labda\n",
    "        \n",
    "        # Create initial grid\n",
    "        self.grid_0 = np.zeros((nx + 2, nx + 2))\n",
    "        \n",
    "        # initialize grid like Fig. 4 from paper\n",
    "        cell_id = 1\n",
    "        randoms = np.random.choice(range(1, nx*nx+1), nx*nx, replace=False)\n",
    "        square_size = 0.5\n",
    "        divisions = 40\n",
    "        j = int((0.5 - 0.5*square_size) * nx)\n",
    "        while j < nx - (0.5 - 0.5*square_size) * nx:\n",
    "            i = int((0.5 - 0.5*square_size) * nx)\n",
    "            \n",
    "            while i < nx - (0.5 - 0.5*square_size) * nx:\n",
    "                length = int(np.random.uniform(1 * nx // (divisions / square_size), 2 * nx // (divisions / square_size)))\n",
    "                self.grid_0[j : min(int(nx - 0.5 * square_size * nx), j + nx // int(divisions / square_size)), i : min(int(0.5*nx + 0.5 * square_size * nx), i + length)] = randoms[cell_id]\n",
    "                i += length\n",
    "                cell_id += 1\n",
    "\n",
    "            j += nx // int(divisions / square_size)\n",
    "                \n",
    "        print(cell_id)\n",
    "\n",
    "        # Give each cell a unique integer id\n",
    "#         self.grid_0[1:-1, 1:-1] = np.random.choice(range(1, nx*nx+1), (nx,nx), replace=False)\n",
    "        # Create grid\n",
    "        self.grid = self.grid_0.copy()\n",
    "        \n",
    "    def cell_type(self, cell_id):\n",
    "        # placeholder\n",
    "        # idk wtf to do here\n",
    "        if cell_id == 0:\n",
    "            return 0\n",
    "\n",
    "        return 1 # cell_id % 2 + 1\n",
    "\n",
    "    def equilibrium_area(self, cell_type):\n",
    "        # placeholder\n",
    "        if cell_type == 0:\n",
    "            return -10 # or something else negative\n",
    "        return 40\n",
    "    \n",
    "    def cell_area(self, cell_id):\n",
    "        return np.count_nonzero(self.grid == cell_id)\n",
    "    \n",
    "    def J(self, type1, type2):\n",
    "        # placeholder\n",
    "        if type1 == 0 and type2 == 0:\n",
    "            return 0\n",
    "        elif type1 == type2:\n",
    "            return 2\n",
    "        else:\n",
    "            return 8\n",
    "    \n",
    "    def Moore(self, i, j):\n",
    "        return self.grid[i-1, j], self.grid[i+1, j], self.grid[i, j-1], self.grid[i, j+1]\n",
    "    \n",
    "    def Hamil_vol(self, cell_ids = None):\n",
    "        # calculate the Hamiltonian_vol sum for only the given coordinates\n",
    "        sum_H = 0\n",
    "        \n",
    "        if cell_ids == None:\n",
    "            cell_ids = np.unique(self.grid)\n",
    "        \n",
    "        for cell_id in cell_ids:\n",
    "            if cell_id != 0:\n",
    "                sum_H += (self.cell_area(cell_id) - self.equilibrium_area(self.cell_type(cell_id)))**2\n",
    "        \n",
    "        return self.labda * sum_H\n",
    "    \n",
    "    def Hamil_bond(self, coordinates = None):\n",
    "        # calculate the Hamiltonian_bond sum for only the given coordinates\n",
    "        if coordinates == None:\n",
    "            coordinates = np.ndindex(self.grid.shape)\n",
    "        \n",
    "        sum_H = 0\n",
    "        \n",
    "        for coord in coordinates:\n",
    "            i, j = coord\n",
    "            if i == 0 or j == 0 or i >= self.nx - 1 or j >= self.nx - 1:\n",
    "                continue\n",
    "                \n",
    "            cell_id = self.grid[i, j]\n",
    "            for cell_id2 in self.Moore(i, j):\n",
    "                sum_H += (self.J(self.cell_type(cell_id), self.cell_type(cell_id2)) \n",
    "                          * (1 - kronecker_delta(cell_id, cell_id2)))\n",
    "                \n",
    "        return sum_H\n",
    "                \n",
    "    def Hamiltonian(self):\n",
    "        return self.Hamil_vol() + self.Hamil_bond()\n",
    "        \n",
    "    def step(self):        \n",
    "        # Randomly choose lattice site \n",
    "        i, j = np.random.randint(1, self.nx, 2)\n",
    "        old_id = self.grid[i, j]\n",
    "        \n",
    "        # choose random neighbor\n",
    "        i2, j2 = ((i-1,j),(i+1,j),(i,j-1),(i,j+1))[np.random.choice(4)]\n",
    "        new_id = self.grid[i2, j2]\n",
    "        \n",
    "        if new_id == old_id:\n",
    "            return\n",
    "        \n",
    "#         old_H = self.Hamiltonian()\n",
    "        \n",
    "        # only calculate difference in H for affected cells (much faster!)\n",
    "        old_H_vol = self.Hamil_vol([old_id, new_id])\n",
    "        old_H_bond = self.Hamil_bond(list(set([(i,j), (i+1,j), (i-1,j), (i,j+1), (i,j-1)])))\n",
    "        \n",
    "        self.grid[i, j] = self.grid[i2, j2]\n",
    "        \n",
    "        dH_vol = self.Hamil_vol([old_id, new_id]) - old_H_vol \n",
    "        dH_bond = self.Hamil_bond(list(set([(i,j), (i+1,j), (i-1,j), (i,j+1), (i,j-1)]))) - old_H_bond\n",
    "\n",
    "        #         new_H = self.Hamiltonian()\n",
    "        \n",
    "        dH = dH_vol + dH_bond\n",
    "        \n",
    "#         print(dH, new_H-old_H)\n",
    "        \n",
    "        P = np.exp(-(dH) / (self.k * self.T))\n",
    "\n",
    "        # undo move with opposite probability\n",
    "        if P < np.random.sample():\n",
    "            self.grid[i, j] = old_id\n",
    "\n",
    "    def draw_borders(self):\n",
    "        # not great yet\n",
    "        grid_to_draw = np.zeros((self.nx + 2, self.nx + 2))\n",
    "\n",
    "        for i, j in np.ndindex(self.grid.shape):\n",
    "            if i == 0 or j == 0 or i >= self.nx - 1 or j >= self.nx - 1:\n",
    "                continue\n",
    "                \n",
    "            neighbors = self.Moore(i, j)\n",
    "                \n",
    "            if (grid_to_draw[i-1,j], grid_to_draw[i+1,j], grid_to_draw[i,j-1], grid_to_draw[i,j+1]).count(1) <= 2 and neighbors.count(neighbors[0]) != len(neighbors):\n",
    "                grid_to_draw[i, j] = 1\n",
    "                \n",
    "        fig = plt.figure(facecolor='w', figsize=(12,4), dpi=130)\n",
    "\n",
    "        ax = plt.subplot2grid((1, 3), (0, 2))\n",
    "        ax.matshow(grid_to_draw[1:-1, 1:-1], cmap = 'hot')\n",
    "        ax.set_title('n = %i' % self.n_steps)\n",
    "        ax.axis('off')\n",
    "\n",
    "        plt.tight_layout()\n",
    "        plt.show()\n",
    "            \n",
    "    def run(self):\n",
    "        i = 0\n",
    "        for step in range(self.n_steps):\n",
    "            \n",
    "            if i % 1000 == 0:\n",
    "                print(i, end='\\r')\n",
    "            self.step()\n",
    "            \n",
    "            if i % 1000000 == 0:\n",
    "#                 self.draw_borders()\n",
    "                \n",
    "                # Create figures        \n",
    "                fig = plt.figure(facecolor='w', figsize=(12,4), dpi=130)\n",
    "\n",
    "                ax = plt.subplot2grid((1, 3), (0, 2))\n",
    "                ax.matshow(self.grid[1:-1, 1:-1], cmap = 'jet')\n",
    "                ax.set_title('n = %i' % i)\n",
    "                ax.axis('off')\n",
    "\n",
    "                plt.tight_layout()\n",
    "                plt.show()\n",
    "                \n",
    "            i += 1"
   ]
  },
  {
   "cell_type": "code",
   "execution_count": 139,
   "metadata": {
    "scrolled": false
   },
   "outputs": [
    {
     "name": "stdout",
     "output_type": "stream",
     "text": [
      "1163\n",
      "0\r"
     ]
    },
    {
     "data": {
      "image/png": "[encoded data removed]",
      "text/plain": [
       "<Figure size 1560x520 with 1 Axes>"
      ]
     },
     "metadata": {},
     "output_type": "display_data"
    },
    {
     "name": "stdout",
     "output_type": "stream",
     "text": [
      "1000000\r"
     ]
    },
    {
     "data": {
      "image/png": "[encoded data removed]",
      "text/plain": [
       "<Figure size 1560x520 with 1 Axes>"
      ]
     },
     "metadata": {},
     "output_type": "display_data"
    },
    {
     "name": "stdout",
     "output_type": "stream",
     "text": [
      "1033000\r"
     ]
    },
    {
     "ename": "KeyboardInterrupt",
     "evalue": "",
     "output_type": "error",
     "traceback": [
      "\u001b[1;31m---------------------------------------------------------------------------\u001b[0m",
      "\u001b[1;31mKeyboardInterrupt\u001b[0m                         Traceback (most recent call last)",
      "\u001b[1;32m~\\AppData\\Local\\Temp/ipykernel_14544/3662809455.py\u001b[0m in \u001b[0;36m<module>\u001b[1;34m\u001b[0m\n\u001b[0;32m      1\u001b[0m \u001b[1;31m# for i in [-1, 0, 1]:\u001b[0m\u001b[1;33m\u001b[0m\u001b[1;33m\u001b[0m\u001b[0m\n\u001b[1;32m----> 2\u001b[1;33m \u001b[0mCellular_Potts\u001b[0m\u001b[1;33m(\u001b[0m\u001b[0mn_steps\u001b[0m\u001b[1;33m=\u001b[0m\u001b[1;36m10000000\u001b[0m\u001b[1;33m)\u001b[0m\u001b[1;33m.\u001b[0m\u001b[0mrun\u001b[0m\u001b[1;33m(\u001b[0m\u001b[1;33m)\u001b[0m\u001b[1;33m\u001b[0m\u001b[1;33m\u001b[0m\u001b[0m\n\u001b[0m",
      "\u001b[1;32m~\\AppData\\Local\\Temp/ipykernel_14544/4054919255.py\u001b[0m in \u001b[0;36mrun\u001b[1;34m(self)\u001b[0m\n\u001b[0;32m    158\u001b[0m             \u001b[1;32mif\u001b[0m \u001b[0mi\u001b[0m \u001b[1;33m%\u001b[0m \u001b[1;36m1000\u001b[0m \u001b[1;33m==\u001b[0m \u001b[1;36m0\u001b[0m\u001b[1;33m:\u001b[0m\u001b[1;33m\u001b[0m\u001b[1;33m\u001b[0m\u001b[0m\n\u001b[0;32m    159\u001b[0m                 \u001b[0mprint\u001b[0m\u001b[1;33m(\u001b[0m\u001b[0mi\u001b[0m\u001b[1;33m,\u001b[0m \u001b[0mend\u001b[0m\u001b[1;33m=\u001b[0m\u001b[1;34m'\\r'\u001b[0m\u001b[1;33m)\u001b[0m\u001b[1;33m\u001b[0m\u001b[1;33m\u001b[0m\u001b[0m\n\u001b[1;32m--> 160\u001b[1;33m             \u001b[0mself\u001b[0m\u001b[1;33m.\u001b[0m\u001b[0mstep\u001b[0m\u001b[1;33m(\u001b[0m\u001b[1;33m)\u001b[0m\u001b[1;33m\u001b[0m\u001b[1;33m\u001b[0m\u001b[0m\n\u001b[0m\u001b[0;32m    161\u001b[0m \u001b[1;33m\u001b[0m\u001b[0m\n\u001b[0;32m    162\u001b[0m             \u001b[1;32mif\u001b[0m \u001b[0mi\u001b[0m \u001b[1;33m%\u001b[0m \u001b[1;36m1000000\u001b[0m \u001b[1;33m==\u001b[0m \u001b[1;36m0\u001b[0m\u001b[1;33m:\u001b[0m\u001b[1;33m\u001b[0m\u001b[1;33m\u001b[0m\u001b[0m\n",
      "\u001b[1;32m~\\AppData\\Local\\Temp/ipykernel_14544/4054919255.py\u001b[0m in \u001b[0;36mstep\u001b[1;34m(self)\u001b[0m\n\u001b[0;32m    100\u001b[0m \u001b[1;33m\u001b[0m\u001b[0m\n\u001b[0;32m    101\u001b[0m         \u001b[1;31m# choose random neighbor\u001b[0m\u001b[1;33m\u001b[0m\u001b[1;33m\u001b[0m\u001b[0m\n\u001b[1;32m--> 102\u001b[1;33m         \u001b[0mi2\u001b[0m\u001b[1;33m,\u001b[0m \u001b[0mj2\u001b[0m \u001b[1;33m=\u001b[0m \u001b[1;33m(\u001b[0m\u001b[1;33m(\u001b[0m\u001b[0mi\u001b[0m\u001b[1;33m-\u001b[0m\u001b[1;36m1\u001b[0m\u001b[1;33m,\u001b[0m\u001b[0mj\u001b[0m\u001b[1;33m)\u001b[0m\u001b[1;33m,\u001b[0m\u001b[1;33m(\u001b[0m\u001b[0mi\u001b[0m\u001b[1;33m+\u001b[0m\u001b[1;36m1\u001b[0m\u001b[1;33m,\u001b[0m\u001b[0mj\u001b[0m\u001b[1;33m)\u001b[0m\u001b[1;33m,\u001b[0m\u001b[1;33m(\u001b[0m\u001b[0mi\u001b[0m\u001b[1;33m,\u001b[0m\u001b[0mj\u001b[0m\u001b[1;33m-\u001b[0m\u001b[1;36m1\u001b[0m\u001b[1;33m)\u001b[0m\u001b[1;33m,\u001b[0m\u001b[1;33m(\u001b[0m\u001b[0mi\u001b[0m\u001b[1;33m,\u001b[0m\u001b[0mj\u001b[0m\u001b[1;33m+\u001b[0m\u001b[1;36m1\u001b[0m\u001b[1;33m)\u001b[0m\u001b[1;33m)\u001b[0m\u001b[1;33m[\u001b[0m\u001b[0mnp\u001b[0m\u001b[1;33m.\u001b[0m\u001b[0mrandom\u001b[0m\u001b[1;33m.\u001b[0m\u001b[0mchoice\u001b[0m\u001b[1;33m(\u001b[0m\u001b[1;36m4\u001b[0m\u001b[1;33m)\u001b[0m\u001b[1;33m]\u001b[0m\u001b[1;33m\u001b[0m\u001b[1;33m\u001b[0m\u001b[0m\n\u001b[0m\u001b[0;32m    103\u001b[0m         \u001b[0mnew_id\u001b[0m \u001b[1;33m=\u001b[0m \u001b[0mself\u001b[0m\u001b[1;33m.\u001b[0m\u001b[0mgrid\u001b[0m\u001b[1;33m[\u001b[0m\u001b[0mi2\u001b[0m\u001b[1;33m,\u001b[0m \u001b[0mj2\u001b[0m\u001b[1;33m]\u001b[0m\u001b[1;33m\u001b[0m\u001b[1;33m\u001b[0m\u001b[0m\n\u001b[0;32m    104\u001b[0m \u001b[1;33m\u001b[0m\u001b[0m\n",
      "\u001b[1;31mKeyboardInterrupt\u001b[0m: "
     ]
    }
   ],
   "source": [
    "# for i in [-1, 0, 1]:\n",
    "Cellular_Potts(n_steps=10000000).run()"
   ]
  },
  {
   "cell_type": "code",
   "execution_count": null,
   "metadata": {
    "collapsed": true
   },
   "outputs": [],
   "source": []
  }
 ],
 "metadata": {
  "kernelspec": {
   "display_name": "Python 3 (ipykernel)",
   "language": "python",
   "name": "python3"
  },
  "language_info": {
   "codemirror_mode": {
    "name": "ipython",
    "version": 3
   },
   "file_extension": ".py",
   "mimetype": "text/x-python",
   "name": "python",
   "nbconvert_exporter": "python",
   "pygments_lexer": "ipython3",
   "version": "3.9.7"
  }
 },
 "nbformat": 4,
 "nbformat_minor": 2
}
